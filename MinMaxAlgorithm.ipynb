{
 "cells": [
  {
   "cell_type": "code",
   "execution_count": 1,
   "id": "a27721f9",
   "metadata": {
    "scrolled": true
   },
   "outputs": [
    {
     "name": "stdout",
     "output_type": "stream",
     "text": [
      "Enter the size of the list : 2500\n",
      "Minimum Element :  111\n",
      "Maximum Element :  999523\n",
      "Time taken by Linear Method : 1.005324363708496\n",
      "Time taken by DAC Method    : 1.0041086673736572\n"
     ]
    }
   ],
   "source": [
    "import random\n",
    "import sys\n",
    "import time\n",
    "\n",
    "\n",
    "def listgenerator(n):\n",
    "    arr=[]\n",
    "    for i in range(0,n):\n",
    "        ele = random.randint(1,999999)\n",
    "        arr.append(ele)\n",
    "    return arr\n",
    "\n",
    "\n",
    "def MinMaxLinear(a,size):\n",
    "    min=a[0];\n",
    "    max=a[0];\n",
    "    for i in range(1,size):\n",
    "        if min>a[i]:\n",
    "            min=a[i]\n",
    "        if max<a[i]:\n",
    "            max=a[i]\n",
    "    return min,max\n",
    "\n",
    "\n",
    "def MinMaxDAC(a,l,r,min,max):\n",
    "    if l==r:\n",
    "        if min>a[r]:\n",
    "            min=a[r]\n",
    "        \n",
    "        if max<a[l]:\n",
    "            max=a[l]\n",
    "        \n",
    "        return min,max\n",
    "    \n",
    "    if r-l==1:\n",
    "        if a[l]<a[r]:\n",
    "            if min>a[l]:\n",
    "                min=a[l]\n",
    "            \n",
    "            if max<a[r]:\n",
    "                max=a[r]\n",
    "        \n",
    "        else:\n",
    "            if min>a[r]:\n",
    "                min=a[r]\n",
    "            \n",
    "            if max<a[l]:\n",
    "                max=a[l]\n",
    "        \n",
    "        return min,max\n",
    "    \n",
    "    mid=(l+r)//2\n",
    "    min,max=MinMaxDAC(a,l,mid,min,max)\n",
    "    min,max=MinMaxDAC(a,mid+1,r,min,max)\n",
    "    \n",
    "    return min,max\n",
    "\n",
    "\n",
    "\n",
    "\n",
    "if __name__=='__main__':\n",
    "    INF = sys.maxsize\n",
    "    n=int(input(\"Enter the size of the list : \"))\n",
    "    arr=listgenerator(n)\n",
    "    (min,max)=(INF,-INF)\n",
    "    start1 = time.time()\n",
    "    time.sleep(1)\n",
    "    (min,max)=MinMaxLinear(arr,n)\n",
    "    end1 = time.time()\n",
    "    start2 = time.time()\n",
    "    time.sleep(1)\n",
    "    (min,max)=MinMaxDAC(arr,0,n-1,min,max)\n",
    "    end2 = time.time()\n",
    "    print(\"Minimum Element : \",min)\n",
    "    print(\"Maximum Element : \",max)\n",
    "    print(\"Time taken by Linear Method :\",end1 - start1)\n",
    "    print(\"Time taken by DAC Method    :\",end2 - start2)"
   ]
  },
  {
   "cell_type": "code",
   "execution_count": null,
   "id": "df734d04",
   "metadata": {},
   "outputs": [],
   "source": []
  }
 ],
 "metadata": {
  "kernelspec": {
   "display_name": "Python 3",
   "language": "python",
   "name": "python3"
  },
  "language_info": {
   "codemirror_mode": {
    "name": "ipython",
    "version": 3
   },
   "file_extension": ".py",
   "mimetype": "text/x-python",
   "name": "python",
   "nbconvert_exporter": "python",
   "pygments_lexer": "ipython3",
   "version": "3.8.8"
  }
 },
 "nbformat": 4,
 "nbformat_minor": 5
}
